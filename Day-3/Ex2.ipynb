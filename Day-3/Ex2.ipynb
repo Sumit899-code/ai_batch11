{
 "cells": [
  {
   "cell_type": "code",
   "execution_count": 4,
   "metadata": {},
   "outputs": [
    {
     "name": "stdout",
     "output_type": "stream",
     "text": [
      "HelloVishwajeet\n",
      "Hello Vishwajeet\n",
      "Hello Vishwajeet\n",
      "Hello Vishwajeet\n"
     ]
    }
   ],
   "source": [
    "print('Hello' + 'Vishwajeet')\n",
    "print('Hello' + ' Vishwajeet')\n",
    "print('Hello ' + 'Vishwajeet')\n",
    "print('Hello' + ' ' +'Vishwajeet')"
   ]
  },
  {
   "cell_type": "code",
   "execution_count": 9,
   "metadata": {},
   "outputs": [
    {
     "name": "stdout",
     "output_type": "stream",
     "text": [
      "It's right\n",
      "C:\\Users\\MY LENOVO\\AppData\\Local\\Programs\\Python\\Python38\n",
      "1\t2\t3\t4\t5\t6\t7\n"
     ]
    }
   ],
   "source": [
    "text1 = 'It\\'s right'\n",
    "print(text1)\n",
    "\n",
    "text2 = 'C:\\\\Users\\\\MY LENOVO\\\\AppData\\\\Local\\\\Programs\\\\Python\\Python38'\n",
    "print(text2)\n",
    "\n",
    "text3 = \"1\\t2\\t3\\t4\\t5\\t6\\t7\"\n",
    "print(text3)"
   ]
  },
  {
   "cell_type": "code",
   "execution_count": 10,
   "metadata": {},
   "outputs": [
    {
     "name": "stdout",
     "output_type": "stream",
     "text": [
      "46\n",
      "-22\n",
      "408\n",
      "0.35294117647058826\n",
      "3\n",
      "12\n",
      "1024\n"
     ]
    }
   ],
   "source": [
    "print(12+34)\n",
    "print(12-34)\n",
    "print(12*34)\n",
    "print(12/34)\n",
    "print(22//7)\n",
    "print(12%34)\n",
    "print(2**10)"
   ]
  },
  {
   "cell_type": "code",
   "execution_count": 12,
   "metadata": {},
   "outputs": [
    {
     "data": {
      "text/plain": [
       "3.142857142857143"
      ]
     },
     "execution_count": 12,
     "metadata": {},
     "output_type": "execute_result"
    }
   ],
   "source": [
    "12+34\n",
    "22/7"
   ]
  },
  {
   "cell_type": "code",
   "execution_count": 13,
   "metadata": {},
   "outputs": [
    {
     "data": {
      "text/plain": [
       "['ArithmeticError',\n",
       " 'AssertionError',\n",
       " 'AttributeError',\n",
       " 'BaseException',\n",
       " 'BlockingIOError',\n",
       " 'BrokenPipeError',\n",
       " 'BufferError',\n",
       " 'BytesWarning',\n",
       " 'ChildProcessError',\n",
       " 'ConnectionAbortedError',\n",
       " 'ConnectionError',\n",
       " 'ConnectionRefusedError',\n",
       " 'ConnectionResetError',\n",
       " 'DeprecationWarning',\n",
       " 'EOFError',\n",
       " 'Ellipsis',\n",
       " 'EnvironmentError',\n",
       " 'Exception',\n",
       " 'False',\n",
       " 'FileExistsError',\n",
       " 'FileNotFoundError',\n",
       " 'FloatingPointError',\n",
       " 'FutureWarning',\n",
       " 'GeneratorExit',\n",
       " 'IOError',\n",
       " 'ImportError',\n",
       " 'ImportWarning',\n",
       " 'IndentationError',\n",
       " 'IndexError',\n",
       " 'InterruptedError',\n",
       " 'IsADirectoryError',\n",
       " 'KeyError',\n",
       " 'KeyboardInterrupt',\n",
       " 'LookupError',\n",
       " 'MemoryError',\n",
       " 'ModuleNotFoundError',\n",
       " 'NameError',\n",
       " 'None',\n",
       " 'NotADirectoryError',\n",
       " 'NotImplemented',\n",
       " 'NotImplementedError',\n",
       " 'OSError',\n",
       " 'OverflowError',\n",
       " 'PendingDeprecationWarning',\n",
       " 'PermissionError',\n",
       " 'ProcessLookupError',\n",
       " 'RecursionError',\n",
       " 'ReferenceError',\n",
       " 'ResourceWarning',\n",
       " 'RuntimeError',\n",
       " 'RuntimeWarning',\n",
       " 'StopAsyncIteration',\n",
       " 'StopIteration',\n",
       " 'SyntaxError',\n",
       " 'SyntaxWarning',\n",
       " 'SystemError',\n",
       " 'SystemExit',\n",
       " 'TabError',\n",
       " 'TimeoutError',\n",
       " 'True',\n",
       " 'TypeError',\n",
       " 'UnboundLocalError',\n",
       " 'UnicodeDecodeError',\n",
       " 'UnicodeEncodeError',\n",
       " 'UnicodeError',\n",
       " 'UnicodeTranslateError',\n",
       " 'UnicodeWarning',\n",
       " 'UserWarning',\n",
       " 'ValueError',\n",
       " 'Warning',\n",
       " 'WindowsError',\n",
       " 'ZeroDivisionError',\n",
       " '__IPYTHON__',\n",
       " '__build_class__',\n",
       " '__debug__',\n",
       " '__doc__',\n",
       " '__import__',\n",
       " '__loader__',\n",
       " '__name__',\n",
       " '__package__',\n",
       " '__spec__',\n",
       " 'abs',\n",
       " 'all',\n",
       " 'any',\n",
       " 'ascii',\n",
       " 'bin',\n",
       " 'bool',\n",
       " 'breakpoint',\n",
       " 'bytearray',\n",
       " 'bytes',\n",
       " 'callable',\n",
       " 'chr',\n",
       " 'classmethod',\n",
       " 'compile',\n",
       " 'complex',\n",
       " 'copyright',\n",
       " 'credits',\n",
       " 'delattr',\n",
       " 'dict',\n",
       " 'dir',\n",
       " 'display',\n",
       " 'divmod',\n",
       " 'enumerate',\n",
       " 'eval',\n",
       " 'exec',\n",
       " 'filter',\n",
       " 'float',\n",
       " 'format',\n",
       " 'frozenset',\n",
       " 'get_ipython',\n",
       " 'getattr',\n",
       " 'globals',\n",
       " 'hasattr',\n",
       " 'hash',\n",
       " 'help',\n",
       " 'hex',\n",
       " 'id',\n",
       " 'input',\n",
       " 'int',\n",
       " 'isinstance',\n",
       " 'issubclass',\n",
       " 'iter',\n",
       " 'len',\n",
       " 'license',\n",
       " 'list',\n",
       " 'locals',\n",
       " 'map',\n",
       " 'max',\n",
       " 'memoryview',\n",
       " 'min',\n",
       " 'next',\n",
       " 'object',\n",
       " 'oct',\n",
       " 'open',\n",
       " 'ord',\n",
       " 'pow',\n",
       " 'print',\n",
       " 'property',\n",
       " 'range',\n",
       " 'repr',\n",
       " 'reversed',\n",
       " 'round',\n",
       " 'set',\n",
       " 'setattr',\n",
       " 'slice',\n",
       " 'sorted',\n",
       " 'staticmethod',\n",
       " 'str',\n",
       " 'sum',\n",
       " 'super',\n",
       " 'tuple',\n",
       " 'type',\n",
       " 'vars',\n",
       " 'zip']"
      ]
     },
     "execution_count": 13,
     "metadata": {},
     "output_type": "execute_result"
    }
   ],
   "source": [
    "dir(__builtins__)"
   ]
  },
  {
   "cell_type": "code",
   "execution_count": 14,
   "metadata": {},
   "outputs": [
    {
     "name": "stdout",
     "output_type": "stream",
     "text": [
      "Help on built-in function ord in module builtins:\n",
      "\n",
      "ord(c, /)\n",
      "    Return the Unicode code point for a one-character string.\n",
      "\n"
     ]
    }
   ],
   "source": [
    "help(ord)"
   ]
  },
  {
   "cell_type": "code",
   "execution_count": 15,
   "metadata": {},
   "outputs": [
    {
     "data": {
      "text/plain": [
       "113"
      ]
     },
     "execution_count": 15,
     "metadata": {},
     "output_type": "execute_result"
    }
   ],
   "source": [
    "ord('q')"
   ]
  },
  {
   "cell_type": "code",
   "execution_count": 16,
   "metadata": {},
   "outputs": [
    {
     "data": {
      "text/plain": [
       "81"
      ]
     },
     "execution_count": 16,
     "metadata": {},
     "output_type": "execute_result"
    }
   ],
   "source": [
    "ord('Q')"
   ]
  },
  {
   "cell_type": "code",
   "execution_count": 17,
   "metadata": {},
   "outputs": [
    {
     "name": "stdout",
     "output_type": "stream",
     "text": [
      "Help on built-in function pow in module builtins:\n",
      "\n",
      "pow(base, exp, mod=None)\n",
      "    Equivalent to base**exp with 2 arguments or base**exp % mod with 3 arguments\n",
      "    \n",
      "    Some types, such as ints, are able to use a more efficient algorithm when\n",
      "    invoked using the three argument form.\n",
      "\n"
     ]
    }
   ],
   "source": [
    "help('pow')"
   ]
  },
  {
   "cell_type": "code",
   "execution_count": 18,
   "metadata": {},
   "outputs": [
    {
     "data": {
      "text/plain": [
       "1048576"
      ]
     },
     "execution_count": 18,
     "metadata": {},
     "output_type": "execute_result"
    }
   ],
   "source": [
    "pow(2,20)"
   ]
  },
  {
   "cell_type": "code",
   "execution_count": 19,
   "metadata": {},
   "outputs": [
    {
     "data": {
      "text/plain": [
       "1048576"
      ]
     },
     "execution_count": 19,
     "metadata": {},
     "output_type": "execute_result"
    }
   ],
   "source": [
    "2**20"
   ]
  },
  {
   "cell_type": "code",
   "execution_count": 20,
   "metadata": {},
   "outputs": [
    {
     "data": {
      "text/plain": [
       "51"
      ]
     },
     "execution_count": 20,
     "metadata": {},
     "output_type": "execute_result"
    }
   ],
   "source": [
    "l1 = [2,10,4,15,51,8]\n",
    "\n",
    "max(l1)"
   ]
  },
  {
   "cell_type": "markdown",
   "metadata": {},
   "source": [
    "# Variables"
   ]
  },
  {
   "cell_type": "code",
   "execution_count": 29,
   "metadata": {},
   "outputs": [
    {
     "name": "stdout",
     "output_type": "stream",
     "text": [
      "Pramod\n",
      "<class 'str'>\n",
      "3.141\n",
      "<class 'float'>\n"
     ]
    }
   ],
   "source": [
    "name = \"Pramod\"\n",
    "_name_ = \"Pranay\"\n",
    "\n",
    "_123name = \"Abha\"\n",
    "\n",
    "name123 = \"Aamod\"\n",
    "\n",
    "print(name)\n",
    "print(type(name))\n",
    "\n",
    "name = 3.141\n",
    "print(name)\n",
    "print(type(name))"
   ]
  },
  {
   "cell_type": "code",
   "execution_count": 33,
   "metadata": {},
   "outputs": [
    {
     "name": "stdout",
     "output_type": "stream",
     "text": [
      "Pranay 22\n"
     ]
    }
   ],
   "source": [
    "name = \"Pranay\"\n",
    "\n",
    "age = \"22\"\n",
    "\n",
    "age1 = 22\n",
    "\n",
    "print(name + ' ' + str(age1))"
   ]
  },
  {
   "cell_type": "code",
   "execution_count": 53,
   "metadata": {},
   "outputs": [
    {
     "name": "stdout",
     "output_type": "stream",
     "text": [
      "Knowledge Shelf\n",
      "K\n",
      "o\n",
      "f\n",
      "f\n",
      "Knowledge Shelf\n",
      "Knowle\n",
      "dge Shelf\n",
      "Shelf\n",
      "KoldeSef\n"
     ]
    }
   ],
   "source": [
    "youtube = \"Knowledge Shelf\"\n",
    "\n",
    "print(youtube)\n",
    "print(youtube[0])\n",
    "print(youtube[2])\n",
    "print(youtube[14])\n",
    "print(youtube[-1])\n",
    "# print(youtube[30])\n",
    "\n",
    "print(youtube[:])\n",
    "print(youtube[0:6])\n",
    "print(youtube[6:])\n",
    "print(youtube[10:])\n",
    "print(youtube[0::2])"
   ]
  },
  {
   "cell_type": "code",
   "execution_count": 62,
   "metadata": {},
   "outputs": [
    {
     "name": "stdout",
     "output_type": "stream",
     "text": [
      "My age is 22 years. My name is Pranay\n",
      "My age is 22 Years. My name is Pranay\n",
      "My age is 22 years. My name is Pranay\n",
      "My age is 22 years. My name is Pranay\n",
      "My age is 22 years. my name is Pranay\n",
      "Pi is approx 3.1428571429\n"
     ]
    }
   ],
   "source": [
    "age = 22\n",
    "name = \"Pranay\"\n",
    "\n",
    "print(\"My age is \" + str(age) + \" years. My name is \" + name)\n",
    "print(\"My age is\", age, \"Years. My name is\", name)\n",
    "print(\"My age is {} years. My name is {}\".format(age, name))\n",
    "print(f\"My age is {age} years. My name is {name}\")\n",
    "print(\"My age is %d years. my name is %s\"% (age, name))\n",
    "print(\"Pi is approx %.10f\"%(22/7))"
   ]
  },
  {
   "cell_type": "markdown",
   "metadata": {},
   "source": [
    "# input()"
   ]
  },
  {
   "cell_type": "code",
   "execution_count": 64,
   "metadata": {},
   "outputs": [
    {
     "name": "stdin",
     "output_type": "stream",
     "text": [
      "Please entr the value: 8899\n"
     ]
    },
    {
     "name": "stdout",
     "output_type": "stream",
     "text": [
      "8899\n",
      "<class 'str'>\n"
     ]
    }
   ],
   "source": [
    "var1 = input(\"Please entr the value:\")\n",
    "\n",
    "print(var1)\n",
    "print(type(var1))"
   ]
  },
  {
   "cell_type": "code",
   "execution_count": 66,
   "metadata": {},
   "outputs": [
    {
     "name": "stdin",
     "output_type": "stream",
     "text": [
      "Enter the value of var1: 12\n",
      "Enter the value of var2: 8\n"
     ]
    },
    {
     "name": "stdout",
     "output_type": "stream",
     "text": [
      "Multiply:  96\n"
     ]
    }
   ],
   "source": [
    "var1 = int(input(\"Enter the value of var1:\"))\n",
    "var2 = int(input(\"Enter the value of var2:\"))\n",
    "\n",
    "var3 = var1 * var2\n",
    "\n",
    "print(\"Multiply: \",var3)"
   ]
  },
  {
   "cell_type": "code",
   "execution_count": 67,
   "metadata": {},
   "outputs": [
    {
     "name": "stdin",
     "output_type": "stream",
     "text": [
      "Enter the value of var1: 22\n",
      "Enter the value of var2: 7\n"
     ]
    },
    {
     "name": "stdout",
     "output_type": "stream",
     "text": [
      "Division: 3.142857142857143\n"
     ]
    }
   ],
   "source": [
    "var1 = float(input(\"Enter the value of var1:\"))\n",
    "var2 = float(input(\"Enter the value of var2:\"))\n",
    "\n",
    "var3 = var1 / var2\n",
    "\n",
    "print(f\"Division: {var3}\")"
   ]
  },
  {
   "cell_type": "markdown",
   "metadata": {},
   "source": [
    "# if-Else"
   ]
  },
  {
   "cell_type": "code",
   "execution_count": 70,
   "metadata": {},
   "outputs": [
    {
     "name": "stdin",
     "output_type": "stream",
     "text": [
      "Enter your name: Abhay\n",
      "How old are you, Abhay? 16\n"
     ]
    },
    {
     "name": "stdout",
     "output_type": "stream",
     "text": [
      "Your age is 16.\n",
      "Please come backe after 2 years.\n"
     ]
    }
   ],
   "source": [
    "name = input(\"Enter your name:\")\n",
    "age = int(input(\"How old are you, {}?\".format(name)))\n",
    "\n",
    "print(\"Your age is {}.\".format(age))\n",
    "\n",
    "if age >= 18:\n",
    "    print(\"Your are old enough to vote.\")\n",
    "else:\n",
    "    print(\"Please come backe after {} years.\".format(18 - age))"
   ]
  },
  {
   "cell_type": "markdown",
   "metadata": {},
   "source": [
    "# Exercise"
   ]
  },
  {
   "cell_type": "code",
   "execution_count": 71,
   "metadata": {},
   "outputs": [],
   "source": [
    "import random"
   ]
  },
  {
   "cell_type": "code",
   "execution_count": 85,
   "metadata": {},
   "outputs": [
    {
     "name": "stdout",
     "output_type": "stream",
     "text": [
      "8\n",
      "Please guess a number between 1 to 10\n"
     ]
    },
    {
     "name": "stdin",
     "output_type": "stream",
     "text": [
      " 5\n"
     ]
    },
    {
     "name": "stdout",
     "output_type": "stream",
     "text": [
      "Please guess higher value.\n"
     ]
    },
    {
     "name": "stdin",
     "output_type": "stream",
     "text": [
      " 7\n"
     ]
    },
    {
     "name": "stdout",
     "output_type": "stream",
     "text": [
      "Sorry, better luck next time.\n"
     ]
    }
   ],
   "source": [
    "start = 1\n",
    "end = 10\n",
    "\n",
    "ans = random.randint(start, end)\n",
    "\n",
    "print(ans)\n",
    "\n",
    "print(\"Please guess a number between {} to {}\".format(start, end))\n",
    "guess_num = int(input())\n",
    "if guess_num != ans:\n",
    "    if guess_num < ans:\n",
    "        print(\"Please guess higher value.\")\n",
    "    else:\n",
    "        print(\"Please guess lower value.\")\n",
    "    \n",
    "    guess_num = int(input())\n",
    "    if guess_num == ans:\n",
    "        print(\"Well done\")\n",
    "    else:\n",
    "        print(\"Sorry, better luck next time.\")\n",
    "\n",
    "else:\n",
    "    print(\"Congrats, you got it first time.\")"
   ]
  },
  {
   "cell_type": "markdown",
   "metadata": {},
   "source": [
    "# Loop\n",
    "\n",
    "- While\n",
    "- For"
   ]
  },
  {
   "cell_type": "code",
   "execution_count": 90,
   "metadata": {},
   "outputs": [
    {
     "name": "stdout",
     "output_type": "stream",
     "text": [
      "value of i is 0\n",
      "value of i is 1\n",
      "value of i is 2\n",
      "value of i is 3\n",
      "value of i is 4\n",
      "value of i is 5\n",
      "value of i is 6\n",
      "value of i is 7\n",
      "value of i is 8\n",
      "value of i is 9\n",
      "value of i is 10\n",
      "value of i is 11\n",
      "value of i is 12\n",
      "value of i is 13\n",
      "value of i is 14\n",
      "value of i is 15\n",
      "value of i is 16\n",
      "value of i is 17\n",
      "value of i is 18\n",
      "value of i is 19\n",
      "value of i is 20\n",
      "value of i is 21\n",
      "value of i is 22\n",
      "value of i is 23\n",
      "value of i is 24\n",
      "value of i is 25\n",
      "value of i is 26\n",
      "value of i is 27\n",
      "value of i is 28\n",
      "value of i is 29\n"
     ]
    }
   ],
   "source": [
    "import time\n",
    "i = 0\n",
    "\n",
    "while(i < 30):\n",
    "    print(\"value of i is\", i)\n",
    "    time.sleep(0.2)\n",
    "    i+=1"
   ]
  },
  {
   "cell_type": "code",
   "execution_count": 93,
   "metadata": {},
   "outputs": [
    {
     "name": "stdin",
     "output_type": "stream",
     "text": [
      "Enter the number: 12\n"
     ]
    },
    {
     "name": "stdout",
     "output_type": "stream",
     "text": [
      "12 x 1 = 12\n",
      "12 x 2 = 24\n",
      "12 x 3 = 36\n",
      "12 x 4 = 48\n",
      "12 x 5 = 60\n",
      "12 x 6 = 72\n",
      "12 x 7 = 84\n",
      "12 x 8 = 96\n",
      "12 x 9 = 108\n",
      "12 x 10 = 120\n"
     ]
    },
    {
     "name": "stdin",
     "output_type": "stream",
     "text": [
      "Enter the number: 13\n"
     ]
    },
    {
     "name": "stdout",
     "output_type": "stream",
     "text": [
      "13 x 1 = 13\n",
      "13 x 2 = 26\n",
      "13 x 3 = 39\n",
      "13 x 4 = 52\n",
      "13 x 5 = 65\n",
      "13 x 6 = 78\n",
      "13 x 7 = 91\n",
      "13 x 8 = 104\n",
      "13 x 9 = 117\n",
      "13 x 10 = 130\n"
     ]
    },
    {
     "name": "stdin",
     "output_type": "stream",
     "text": [
      "Enter the number: 14\n"
     ]
    },
    {
     "name": "stdout",
     "output_type": "stream",
     "text": [
      "14 x 1 = 14\n",
      "14 x 2 = 28\n",
      "14 x 3 = 42\n",
      "14 x 4 = 56\n",
      "14 x 5 = 70\n",
      "14 x 6 = 84\n",
      "14 x 7 = 98\n",
      "14 x 8 = 112\n",
      "14 x 9 = 126\n",
      "14 x 10 = 140\n"
     ]
    },
    {
     "name": "stdin",
     "output_type": "stream",
     "text": [
      "Enter the number: 15\n"
     ]
    },
    {
     "name": "stdout",
     "output_type": "stream",
     "text": [
      "15 x 1 = 15\n",
      "15 x 2 = 30\n",
      "15 x 3 = 45\n",
      "15 x 4 = 60\n",
      "15 x 5 = 75\n",
      "15 x 6 = 90\n",
      "15 x 7 = 105\n",
      "15 x 8 = 120\n",
      "15 x 9 = 135\n",
      "15 x 10 = 150\n"
     ]
    },
    {
     "name": "stdin",
     "output_type": "stream",
     "text": [
      "Enter the number: 0\n"
     ]
    }
   ],
   "source": [
    "while(1):\n",
    "    num1 = int(input(\"Enter the number:\"))\n",
    "    num2 = 1\n",
    "    if num1 == 0:\n",
    "        break\n",
    "    \n",
    "    while(num2 <= 10):\n",
    "        \n",
    "        num3 = num1 * num2\n",
    "        print(f\"{num1} x {num2} = {num3}\")\n",
    "        num2+=1"
   ]
  },
  {
   "cell_type": "code",
   "execution_count": 94,
   "metadata": {},
   "outputs": [
    {
     "name": "stdin",
     "output_type": "stream",
     "text": [
      "Enter the name: Vishwajeet\n",
      "Enter the name: Aman\n",
      "Enter the name: Pranay\n",
      "Enter the name: Ayush\n"
     ]
    },
    {
     "name": "stdout",
     "output_type": "stream",
     "text": [
      "Please enter the password:\n"
     ]
    },
    {
     "name": "stdin",
     "output_type": "stream",
     "text": [
      " Gupta\n"
     ]
    },
    {
     "name": "stdout",
     "output_type": "stream",
     "text": [
      "You are out of while loop\n"
     ]
    }
   ],
   "source": [
    "while(1):\n",
    "    \n",
    "    name = input(\"Enter the name:\")\n",
    "    \n",
    "    if name != \"Ayush\":\n",
    "        continue\n",
    "    \n",
    "    print(\"Please enter the password:\")\n",
    "    pwd = input()\n",
    "    if pwd == \"Gupta\":\n",
    "        break\n",
    "print(\"You are out of while loop\")"
   ]
  },
  {
   "cell_type": "code",
   "execution_count": 101,
   "metadata": {},
   "outputs": [
    {
     "name": "stdout",
     "output_type": "stream",
     "text": [
      "1\n",
      "3\n",
      "5\n",
      "7\n",
      "9\n"
     ]
    }
   ],
   "source": [
    "for i in range(1,10,2):\n",
    "    print(i)"
   ]
  },
  {
   "cell_type": "code",
   "execution_count": 95,
   "metadata": {},
   "outputs": [
    {
     "data": {
      "text/plain": [
       "[1, 2, 3, 4, 5, 6, 7, 8, 9]"
      ]
     },
     "execution_count": 95,
     "metadata": {},
     "output_type": "execute_result"
    }
   ],
   "source": [
    "list(range(1,10))"
   ]
  },
  {
   "cell_type": "code",
   "execution_count": 96,
   "metadata": {},
   "outputs": [
    {
     "data": {
      "text/plain": [
       "range(1, 10)"
      ]
     },
     "execution_count": 96,
     "metadata": {},
     "output_type": "execute_result"
    }
   ],
   "source": [
    "range(1,10)"
   ]
  },
  {
   "cell_type": "code",
   "execution_count": 104,
   "metadata": {},
   "outputs": [
    {
     "name": "stdout",
     "output_type": "stream",
     "text": [
      "i: 10\n",
      "i: 20\n",
      "i: 30\n",
      "i: 40\n",
      "i: 50\n",
      "i: 60\n",
      "i: 70\n",
      "i: 80\n",
      "i: 90\n"
     ]
    }
   ],
   "source": [
    "l1 = [10, 20, 30,40, 50,60,70,80,90]\n",
    "\n",
    "for i in [10, 20, 30,40, 50,60,70,80,90]:\n",
    "    print(\"i:\",i)"
   ]
  },
  {
   "cell_type": "code",
   "execution_count": null,
   "metadata": {},
   "outputs": [],
   "source": []
  }
 ],
 "metadata": {
  "kernelspec": {
   "display_name": "Python 3",
   "language": "python",
   "name": "python3"
  },
  "language_info": {
   "codemirror_mode": {
    "name": "ipython",
    "version": 3
   },
   "file_extension": ".py",
   "mimetype": "text/x-python",
   "name": "python",
   "nbconvert_exporter": "python",
   "pygments_lexer": "ipython3",
   "version": "3.8.6"
  }
 },
 "nbformat": 4,
 "nbformat_minor": 4
}
