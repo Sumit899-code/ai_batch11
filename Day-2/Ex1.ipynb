{
 "cells": [
  {
   "cell_type": "code",
   "execution_count": 1,
   "metadata": {},
   "outputs": [
    {
     "name": "stdout",
     "output_type": "stream",
     "text": [
      "Welcome to Artificial Intelligence Training Program\n"
     ]
    }
   ],
   "source": [
    "print(\"Welcome to Artificial Intelligence Training Program\")"
   ]
  },
  {
   "cell_type": "code",
   "execution_count": 8,
   "metadata": {},
   "outputs": [],
   "source": [
    "var1 = 14"
   ]
  },
  {
   "cell_type": "code",
   "execution_count": 6,
   "metadata": {},
   "outputs": [],
   "source": [
    "var1 = \"Amit\""
   ]
  },
  {
   "cell_type": "code",
   "execution_count": 4,
   "metadata": {},
   "outputs": [
    {
     "ename": "SyntaxError",
     "evalue": "invalid syntax (<ipython-input-4-63b94066909a>, line 1)",
     "output_type": "error",
     "traceback": [
      "\u001b[1;36m  File \u001b[1;32m\"<ipython-input-4-63b94066909a>\"\u001b[1;36m, line \u001b[1;32m1\u001b[0m\n\u001b[1;33m    int var1 = 0\u001b[0m\n\u001b[1;37m        ^\u001b[0m\n\u001b[1;31mSyntaxError\u001b[0m\u001b[1;31m:\u001b[0m invalid syntax\n"
     ]
    }
   ],
   "source": [
    "int var1 = 0"
   ]
  },
  {
   "cell_type": "code",
   "execution_count": 9,
   "metadata": {},
   "outputs": [
    {
     "data": {
      "text/plain": [
       "140704092915776"
      ]
     },
     "execution_count": 9,
     "metadata": {},
     "output_type": "execute_result"
    }
   ],
   "source": [
    "id(var1)"
   ]
  },
  {
   "cell_type": "markdown",
   "metadata": {},
   "source": [
    "Welcome to Artificial Intelligence Training Program\n",
    "\n",
    "# Welcome to Artificial Intelligence Training Program\n",
    "## Welcome to Artificial Intelligence Training Program\n",
    "### Welcome to Artificial Intelligence Training Program\n",
    "#### Welcome to Artificial Intelligence Training Program\n",
    "##### Welcome to Artificial Intelligence Training Program\n",
    "###### Welcome to Artificial Intelligence Training Program\n",
    "\n",
    "_Vishwajeet Singh Rana_\n",
    "<br>\n",
    "**Knowledge Shelf**"
   ]
  },
  {
   "cell_type": "markdown",
   "metadata": {},
   "source": [
    "<img src=\"https://www.pngfind.com/pngs/m/62-626208_python-logo-png-transparent-background-python-logo-png.png\" alt=\"Girl in a jacket\" width=\"200\" height=\"300\">"
   ]
  },
  {
   "cell_type": "markdown",
   "metadata": {},
   "source": [
    "**Top-5 Programming Languages**\n",
    "- Python\n",
    "- JavaScript\n",
    "- Java\n",
    "- C/C++\n",
    "- C#\n",
    "\n",
    "[Google](https://www.google.co.in/)\n",
    "<br>\n",
    "[Scikit-Learn](https://scikit-learn.org/stable/)"
   ]
  },
  {
   "cell_type": "code",
   "execution_count": 13,
   "metadata": {},
   "outputs": [
    {
     "name": "stdout",
     "output_type": "stream",
     "text": [
      "Hello World!. Welcome to Artificial Intelligence Training Program!!!\n",
      "Hello World!. Welcome to Artificial Intelligence Training Program!!!\n",
      "Hello World!. Welcome to Artificial Intelligence Training Program!!!\n",
      "Hello World!. Welcome to Artificial Intelligence Training Program!!!\n"
     ]
    }
   ],
   "source": [
    "print('Hello World!. Welcome to Artificial Intelligence Training Program!!!')\n",
    "print(\"Hello World!. Welcome to Artificial Intelligence Training Program!!!\")\n",
    "print(\"\"\"Hello World!. Welcome to Artificial Intelligence Training Program!!!\"\"\")\n",
    "print('''Hello World!. Welcome to Artificial Intelligence Training Program!!!''')"
   ]
  },
  {
   "cell_type": "code",
   "execution_count": 17,
   "metadata": {},
   "outputs": [
    {
     "name": "stdout",
     "output_type": "stream",
     "text": [
      "What's your name\n",
      "What's your name???\n",
      "My name is \"Vishwajeet S Rana\"!!!\n"
     ]
    }
   ],
   "source": [
    "print('What\\'s your name')\n",
    "print(\"What's your name???\")\n",
    "print('My name is \"Vishwajeet S Rana\"!!!')"
   ]
  },
  {
   "cell_type": "code",
   "execution_count": 19,
   "metadata": {},
   "outputs": [
    {
     "name": "stdout",
     "output_type": "stream",
     "text": [
      "1. Python\n",
      "2. Java\n",
      "3. C#\n",
      "4. JavaScript\n"
     ]
    }
   ],
   "source": [
    "print(\"1. Python\\n2. Java\\n3. C#\\n4. JavaScript\")"
   ]
  },
  {
   "cell_type": "code",
   "execution_count": 21,
   "metadata": {},
   "outputs": [
    {
     "name": "stdout",
     "output_type": "stream",
     "text": [
      "1. Python \n",
      "2. Java \n",
      "3. C# \n",
      "4. JavaScript\n"
     ]
    }
   ],
   "source": [
    "print(\"\"\"1. Python \n",
    "2. Java \n",
    "3. C# \n",
    "4. JavaScript\"\"\")"
   ]
  },
  {
   "cell_type": "code",
   "execution_count": 22,
   "metadata": {},
   "outputs": [
    {
     "data": {
      "text/plain": [
       "'1. Python \\n2. Java \\n3. C# \\n4. JavaScript'"
      ]
     },
     "execution_count": 22,
     "metadata": {},
     "output_type": "execute_result"
    }
   ],
   "source": [
    "\"\"\"1. Python \n",
    "2. Java \n",
    "3. C# \n",
    "4. JavaScript\"\"\""
   ]
  },
  {
   "cell_type": "code",
   "execution_count": null,
   "metadata": {},
   "outputs": [],
   "source": []
  }
 ],
 "metadata": {
  "kernelspec": {
   "display_name": "Python 3",
   "language": "python",
   "name": "python3"
  },
  "language_info": {
   "codemirror_mode": {
    "name": "ipython",
    "version": 3
   },
   "file_extension": ".py",
   "mimetype": "text/x-python",
   "name": "python",
   "nbconvert_exporter": "python",
   "pygments_lexer": "ipython3",
   "version": "3.8.6"
  }
 },
 "nbformat": 4,
 "nbformat_minor": 4
}
